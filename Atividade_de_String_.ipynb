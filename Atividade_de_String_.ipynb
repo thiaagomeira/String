{
  "nbformat": 4,
  "nbformat_minor": 0,
  "metadata": {
    "colab": {
      "provenance": [],
      "collapsed_sections": [],
      "authorship_tag": "ABX9TyNSx140gEsnITiN9kvyuC9x",
      "include_colab_link": true
    },
    "kernelspec": {
      "name": "python3",
      "display_name": "Python 3"
    },
    "language_info": {
      "name": "python"
    }
  },
  "cells": [
    {
      "cell_type": "markdown",
      "metadata": {
        "id": "view-in-github",
        "colab_type": "text"
      },
      "source": [
        "<a href=\"https://colab.research.google.com/github/thiaagomeira/String/blob/Atividade/Atividade_de_String_.ipynb\" target=\"_parent\"><img src=\"https://colab.research.google.com/assets/colab-badge.svg\" alt=\"Open In Colab\"/></a>"
      ]
    },
    {
      "cell_type": "code",
      "execution_count": 1,
      "metadata": {
        "id": "hHDNIWl9j4yL",
        "colab": {
          "base_uri": "https://localhost:8080/"
        },
        "outputId": "2553d035-9952-4c6b-9c6d-4ea22ecf16c6"
      },
      "outputs": [
        {
          "output_type": "stream",
          "name": "stdout",
          "text": [
            "Digite uma frase: Flamengo Campeão\n",
            "Digite outra fase: Flamengo Campeão do Mundo\n",
            "Flamengo Campeão 16\n",
            "Flamengo Campeão do Mundo 25\n"
          ]
        }
      ],
      "source": [
        "# 1 Faça um programa que leia 2 strings e informe o conteúdo delas seguido do seu comprimento. Informe também se as duas strings possuem o mesmo comprimento e são iguais ou diferentes no conteúdo.\n",
        "\n",
        "String1 = input(\"Digite uma frase: \")\n",
        "String2 = input(\"Digite outra fase: \")\n",
        "tamanho_str_1 = len(String1)\n",
        "tamanho_str_2 = len(String2)\n",
        "print(String1 + \" \" + str(tamanho_str_1))\n",
        "print(String2 + \" \" + str(tamanho_str_2))"
      ]
    },
    {
      "cell_type": "code",
      "source": [
        "# 2 Faça um programa que permita ao usuário digitar o seu nome e em seguida mostre o nome do usuário de trás para frente utilizando somente letras maiúsculas. Dica: lembre−se que ao informar o nome o usuário pode digitar letras maiúsculas ou minúsculas.\n",
        "\n",
        "Nome = input(\"Digite o seu nome: \")\n",
        "print(Nome.upper() [::-1])"
      ],
      "metadata": {
        "id": "IjyzGNhBnTvC",
        "colab": {
          "base_uri": "https://localhost:8080/"
        },
        "outputId": "84ab441e-7452-45d9-8a53-4d92e826c0f5"
      },
      "execution_count": 2,
      "outputs": [
        {
          "output_type": "stream",
          "name": "stdout",
          "text": [
            "Digite o seu nome: Thiago\n",
            "OGAIHT\n"
          ]
        }
      ]
    },
    {
      "cell_type": "code",
      "source": [
        "# 3 Faça um programa que solicite o nome do usuário e imprima-o na vertical.\n",
        "\n",
        "Nome = input('Digite o seu nome: ')\n",
        "for i in Nome:\n",
        "  print(str.upper(i))"
      ],
      "metadata": {
        "id": "hUwh7qrnoSDb",
        "colab": {
          "base_uri": "https://localhost:8080/"
        },
        "outputId": "86264622-9835-4296-cc21-8c653285d057"
      },
      "execution_count": 3,
      "outputs": [
        {
          "output_type": "stream",
          "name": "stdout",
          "text": [
            "Digite o seu nome: Introdução\n",
            "I\n",
            "N\n",
            "T\n",
            "R\n",
            "O\n",
            "D\n",
            "U\n",
            "Ç\n",
            "Ã\n",
            "O\n"
          ]
        }
      ]
    },
    {
      "cell_type": "code",
      "source": [
        "# 4 Modifique o programa anterior de forma a mostrar o nome em formato de escada.\n",
        "\n",
        "Nome = str(input('Digite seu nome: ')).upper()\n",
        "for i in range(0,len(Nome)+1):\n",
        "  print(Nome[:i])"
      ],
      "metadata": {
        "id": "O2HB1A1NoxBL",
        "colab": {
          "base_uri": "https://localhost:8080/"
        },
        "outputId": "120681c2-4e77-46b8-c5fb-a7ca104caf2d"
      },
      "execution_count": 4,
      "outputs": [
        {
          "output_type": "stream",
          "name": "stdout",
          "text": [
            "Digite seu nome: Introdução\n",
            "\n",
            "I\n",
            "IN\n",
            "INT\n",
            "INTR\n",
            "INTRO\n",
            "INTROD\n",
            "INTRODU\n",
            "INTRODUÇ\n",
            "INTRODUÇÃ\n",
            "INTRODUÇÃO\n"
          ]
        }
      ]
    },
    {
      "cell_type": "code",
      "source": [
        "# 5 Altere o programa anterior de modo que a escada seja invertida.\n",
        "\n",
        "Nome = str(input('Digite seu nome: ')).upper()\n",
        "for i in range(0,len(Nome)+1):\n",
        "  print(Nome[i:])"
      ],
      "metadata": {
        "id": "3qzO4kWipQQw",
        "colab": {
          "base_uri": "https://localhost:8080/"
        },
        "outputId": "c8d76f34-2e95-4864-9bfc-308b80cd3fcb"
      },
      "execution_count": 5,
      "outputs": [
        {
          "output_type": "stream",
          "name": "stdout",
          "text": [
            "Digite seu nome: Introdução\n",
            "INTRODUÇÃO\n",
            "NTRODUÇÃO\n",
            "TRODUÇÃO\n",
            "RODUÇÃO\n",
            "ODUÇÃO\n",
            "DUÇÃO\n",
            "UÇÃO\n",
            "ÇÃO\n",
            "ÃO\n",
            "O\n",
            "\n"
          ]
        }
      ]
    },
    {
      "cell_type": "code",
      "source": [
        "# 6 Faça um programa que solicite a data de nascimento (dd/mm/aaaa) do usuário e imprima a data com o nome do mês por extenso.\n",
        "\n",
        "data = input(\"Digite a sua data de nascimento (dd/mm/aaaa): \")\n",
        "lista_data = data.split(\"/\")\n",
        "meses = [\"janeiro\", \"fevereiro\", \"março\", \"abril\", \"maio\", \"junho\", \"julho\", \"agosto\", \"setembro\", \"outubro\", \"novembro\", \"dezembro\"]\n",
        "mes_extenso = meses[int(lista_data[1])-1]\n",
        "print(\"Você nasceu em: \")\n",
        "print(lista_data[0] + \" de \" + mes_extenso + \" de \" + lista_data[2])"
      ],
      "metadata": {
        "id": "ziHNRG30qJi0",
        "colab": {
          "base_uri": "https://localhost:8080/"
        },
        "outputId": "894373b5-f1c3-4a50-de8b-bd20959abc53"
      },
      "execution_count": 6,
      "outputs": [
        {
          "output_type": "stream",
          "name": "stdout",
          "text": [
            "Digite a sua data de nascimento (dd/mm/aaaa): 22/10/2022\n",
            "Você nasceu em: \n",
            "22 de outubro de 2022\n"
          ]
        }
      ]
    },
    {
      "cell_type": "code",
      "source": [
        "# 7 Dado uma string com uma frase informada pelo usuário (incluindo espaços em branco), conte:\n",
        "# Quantos espaços em branco existem na frase.\n",
        "# Quantas vezes aparecem as vogais a, e, i, o, u.Dado uma string com uma frase informada pelo usuário (incluindo espaços em branco), conte:\n",
        "# Quantos espaços em branco existem na frase.\n",
        "# Quantas vezes aparecem as vogais a, e, i, o, u.\n",
        "\n",
        "frase = input(\"Digite uma frase: \")\n",
        "vogais = 0\n",
        "espacos = 0\n",
        "for letra in frase:\n",
        "  if letra == \" \":\n",
        "    espacos += 1\n",
        "  elif letra in \"aeiou\":\n",
        "    vogais += 1\n",
        "print(\"A frase contém %d vogais e %d espaços\" % (vogais,espacos))"
      ],
      "metadata": {
        "id": "EW6u9P3btXRO",
        "colab": {
          "base_uri": "https://localhost:8080/"
        },
        "outputId": "c0ae003a-acd6-4344-a8db-069a8a2106ed"
      },
      "execution_count": 7,
      "outputs": [
        {
          "output_type": "stream",
          "name": "stdout",
          "text": [
            "Digite uma frase: Introdução a Programação\n",
            "A frase contém 8 vogais e 2 espaços\n"
          ]
        }
      ]
    },
    {
      "cell_type": "code",
      "source": [
        "# 8  Um palíndromo é uma seqüência de caracteres cuja leitura é idêntica se feita da direita para esquerda ou vice−versa. Por exemplo: OSSO e OVO são palíndromos. Em textos mais complexos os espaços e pontuação são ignorados. A frase SUBI NO ONIBUS é o exemplo de uma frase palíndroma onde os espaços foram ignorados. Faça um programa que leia uma seqüência de caracteres, mostre−a e diga se é um palíndromo ou não.\n",
        "\n",
        "frase = input(\"Digite uma frase: \").replace(\" \", \"\")\n",
        "numero_de_letras = len(frase)\n",
        "normal = frase[0:numero_de_letras]\n",
        "inverso = frase[numero_de_letras::-1]\n",
        "if normal == inverso:\n",
        "  print('Essa frase é um polindromo')\n",
        "else:\n",
        "  print('Essa frase não é um polidromo')"
      ],
      "metadata": {
        "id": "BOWt_XIrzXt7",
        "colab": {
          "base_uri": "https://localhost:8080/"
        },
        "outputId": "21de7feb-a216-417d-ca21-04a5d78e28ed"
      },
      "execution_count": 8,
      "outputs": [
        {
          "output_type": "stream",
          "name": "stdout",
          "text": [
            "Digite uma frase: não subi no ônibus\n",
            "Essa frase não é um polidromo\n"
          ]
        }
      ]
    },
    {
      "cell_type": "code",
      "source": [
        "# 9 Desenvolva um programa que solicite a digitação de um número de CPF no formato xxx.xxx.xxx-xx e indique se é um número válido ou inválido através da validação dos dígitos verificadores e dos caracteres de formatação.\n",
        "\n",
        "cpf = input(\"Digite o seu CPF(xxx.xxx.xxx-xx): \") #3 7 11\n",
        "correto = False\n",
        "for numero in cpf:\n",
        "  if(cpf[3] !=\".\") or (cpf[7] !=\".\") or (cpf[11] !=\"-\"):\n",
        "    cpf = input(\"CPF iNVVÁLIDO!!! O 'CPF' pricisa estar no formato (xxx.xxx.xxx-xx): \")\n",
        "  else:\n",
        "    correto = True\n",
        "if correto == True:\n",
        "  print(\"O 'CPF' está no formato correto\")"
      ],
      "metadata": {
        "id": "vXaw1wrn3RKM",
        "colab": {
          "base_uri": "https://localhost:8080/"
        },
        "outputId": "b52f409f-4364-4eab-f127-42d9d7b7f577"
      },
      "execution_count": 9,
      "outputs": [
        {
          "output_type": "stream",
          "name": "stdout",
          "text": [
            "Digite o seu CPF(xxx.xxx.xxx-xx): 000.000.000-00\n",
            "O 'CPF' está no formato correto\n"
          ]
        }
      ]
    },
    {
      "cell_type": "code",
      "source": [
        "# 10  Escreva um programa que solicite ao usuário a digitação de um número até 99 e imprima-o na tela por extenso.\n",
        "\n",
        "cont = ('zero', 'um', 'dois', 'três', 'quatro', 'cinco', 'seis', 'sete', 'oito', 'nove', 'dez', 'onze', 'doze',\n",
        "        'treze', 'quatorze', 'quinze', 'dezesseis', 'dezessete', 'dezoito', 'dezenove', 'vinte', \"vinte e um\",\n",
        "        \"vinte e dois\", \"vinte e três\", \"vinte e quatro\", \"vinte e cinco\", \"vinte e seis\", \"vinte e sete\",\n",
        "        \"vinte e oito\", \"vinte e nove\", 'trinta', \"trinta e um\", \"trinta e dois\", \"trinta e três\", \"trinta e quatro\",\n",
        "        \"trinta e cinco\", \"trinta e seis\", \"trinta e sete\", \"trinta e oito\", \"trinta e nove\", \"quarenta\",\n",
        "        \"quarenta e um\", \"quarenta e dois\", \"quarenta e três\", \"quarenta e quatro\", \"quarenta e cinco\",\n",
        "        \"quarenta e seis\", \"quarenta e sete\", \"quarenta e oito\", \"quarenta e nove\", \"cinquenta\",\n",
        "        \"cinquenta e um\", \"cinquenta e dois\", \"cinquenta e três\", \"cinquenta e quatro\", \"cinquenta e cinco\",\n",
        "        \"cinquenta e seis\" \"cinquenta e sete\", \"cinquenta e oito\", \"cinquenta e nove\", \"sessenta\",\n",
        "        \"sessenta e um\", \"sessenta e dois\", \"sessenta e três\", \"sessenta e quatro\", \"sessenta e cinco\",\n",
        "        \"sessenta e seis\", \"sessenta e sete\", \"sessenta e oito\", \"sessenta e nove\", \"setenta\", \"setenta e um\",\n",
        "        \"setenta e dois\", \"setenta e três\", \"setenta e quatro\", \"setenta e cinco\", \"setenta e seis\", \"setenta e sete\",\n",
        "        \"setenta e oito\", \"setenta e nove\", \"oitenta\", \"oitenta e um\", \"oitenta e dois\", \"oitenta e três\",\n",
        "        \"oitenta e quatro\", \"oitenta e cinco\", \"oitenta e seis\", \"oitenta e sete\", \"oitenta e oito\", \"oitenta e nove\",\n",
        "        \"noventa\", \"noventa e um\", \"noventa e dois\", \"noventa e três\", \"noventa e quatro\", \"noventa e cinco\",\n",
        "        \"noventa e seis\", \"noventa e sete\", \"noventa e oito\", \"noventa e nove\")\n",
        "while True:\n",
        "    numero = int(input(\"Digite um número entre 0 e 99: \"))\n",
        "    if 0 <= numero <= 99:\n",
        "        break\n",
        "    print(\"Tente novamente\")\n",
        "print(f'Você digitou o {cont[numero]}')"
      ],
      "metadata": {
        "id": "R3ntGcGgC5FF",
        "colab": {
          "base_uri": "https://localhost:8080/"
        },
        "outputId": "7dfb3f36-ace8-4987-ae40-a9521f32e8c3"
      },
      "execution_count": 10,
      "outputs": [
        {
          "output_type": "stream",
          "name": "stdout",
          "text": [
            "Digite um número entre 0 e 99: 55\n",
            "Você digitou o cinquenta e cinco\n"
          ]
        }
      ]
    },
    {
      "cell_type": "code",
      "source": [
        "# 11 Desenvolva um jogo da forca. O programa terá uma lista de palavras lidas de um arquivo texto e escolherá uma aleatoriamente. O jogador poderá errar 6 vezes antes de ser enforcado.\n",
        "\n",
        "# Digite uma letra: A\n",
        "# -> Você errou pela 1ª vez. Tente de novo!\n",
        "\n",
        "# Digite uma letra: O\n",
        "# A palavra é: _ _ _ _ O\n",
        "\n",
        "# Digite uma letra: E\n",
        "# A palavra é: _ E _ _ O\n",
        "\n",
        "# Digite uma letra: S\n",
        "# -> Você errou pela 2ª vez. Tente de novo!\n",
        "\n",
        "import random\n",
        "palavras = input (\"Digite as palavras: \")\n",
        "palavras = palavras.split(\"_\")\n",
        "uma_palavra = palavras[random.randrange(0,len(palavras))]\n",
        "palavra_forca = [\"_\" for i in uma_palavra]\n",
        "chance = 1\n",
        "while(chance<7 and palavra_forca.count(\"_\") !=0):\n",
        "    letra = input(\"Digite uma letra: \")\n",
        "    if letra not in uma_palavra:\n",
        "        print(\"-> Você errou pela \"+str(chance) + \"a vez. Tente de novo!\")\n",
        "        chance = chance + 1\n",
        "    else:\n",
        "        print(\" \".join(palavra_forca))\n",
        "        if palavra_forca.count(\"_\") == 0:\n",
        "            print(\"Parabéns! Você acertou a palavra.\")\n",
        "else:\n",
        "  print(\"Forca! Fim de jogo.\")"
      ],
      "metadata": {
        "id": "8WPk8E9MY1C8",
        "colab": {
          "base_uri": "https://localhost:8080/"
        },
        "outputId": "8deed102-314b-4079-ae10-b307c6dd4af6"
      },
      "execution_count": 17,
      "outputs": [
        {
          "output_type": "stream",
          "name": "stdout",
          "text": [
            "Digite as palavras: h\n",
            "Digite uma letra: j\n",
            "-> Você errou pela 1a vez. Tente de novo!\n",
            "Digite uma letra: y\n",
            "-> Você errou pela 2a vez. Tente de novo!\n",
            "Digite uma letra: t\n",
            "-> Você errou pela 3a vez. Tente de novo!\n",
            "Digite uma letra: q\n",
            "-> Você errou pela 4a vez. Tente de novo!\n",
            "Digite uma letra: e\n",
            "-> Você errou pela 5a vez. Tente de novo!\n",
            "Digite uma letra: a\n",
            "-> Você errou pela 6a vez. Tente de novo!\n",
            "Forca! Fim de jogo.\n"
          ]
        }
      ]
    },
    {
      "cell_type": "code",
      "source": [
        "# 12 Faça um programa que leia um número de telefone, e corrija o número no caso deste conter somente 7 dígitos, acrescentando o '3' na frente. O usuário pode informar o número com ou sem o traço separador.\n",
        "\n",
        "print(\"Valida e corrige número de telefone\")\n",
        "numero = int(input(\"Telefone: \"))\n",
        "novoNumero = ''\n",
        "if 8 > len(str(numero)):\n",
        "  diferenca = 8-len(str(numero))\n",
        "  novoNumero = \"3\" * diferenca\n",
        "numeroFormatado = novoNumero +str(numero)\n",
        "numeroFormatado = f\"{numeroFormatado[0:4]}-{numeroFormatado[4:]}\"\n",
        "print(\"Telefone possui% d dígitos. Vou adicionar o dígito três na frente\" % len(str(numero)))\n",
        "print(\"Telefone corrigido sem formatação:% d\" % numero)\n",
        "print(\"Telegone corrigido com formatação:% s\" % numeroFormatado)\n"
      ],
      "metadata": {
        "id": "qh6ie57eghzr",
        "colab": {
          "base_uri": "https://localhost:8080/"
        },
        "outputId": "74ac7bc1-9d05-488b-a3a2-351b20cd40db"
      },
      "execution_count": 18,
      "outputs": [
        {
          "output_type": "stream",
          "name": "stdout",
          "text": [
            "Valida e corrige número de telefone\n",
            "Telefone: 2466050\n",
            "Telefone possui 7 dígitos. Vou adicionar o dígito três na frente\n",
            "Telefone corrigido sem formatação: 2466050\n",
            "Telegone corrigido com formatação:3246-6050\n"
          ]
        }
      ]
    },
    {
      "cell_type": "code",
      "source": [
        "# 13 Desenvolva um jogo em que o usuário tenha que adivinhar uma palavra que será mostrada com as letras embaralhadas. O programa terá uma lista de palavras lidas de um arquivo texto e escolherá uma aleatoriamente. \n",
        "# O jogador terá seis tentativas para adivinhar a palavra. \n",
        "# Ao final a palavra deve ser mostrada na tela, informando se o usuário ganhou ou perdeu o jogo.\n",
        "\n",
        "import random\n",
        "\n",
        "tentativa = 6\n",
        "palavras = ('PORTAL', 'CASAL', 'TORRE', 'CARRO', 'FLAMENGO', 'SUCO', 'CAMISA', 'LARANJA', 'VERMELHO', 'PORSCHE', \\\n",
        "            \"FERRARI\", 'PORTAL', 'LENÇOL', 'ESCOLA')\n",
        "sorteado = random.choice(palavras)\n",
        "while tentativa != 0:\n",
        "    embaralha = random.sample(sorteado, len(sorteado))\n",
        "    juntar_palavra_embaralhada = ''.join(embaralha)\n",
        "    print(juntar_palavra_embaralhada)\n",
        "    print(\"=\" * 20)\n",
        "    tent = input(\"Adivinhe a palavra: \").upper()\n",
        "    if tent == sorteado:\n",
        "        print(\"\\nParabéns! Você acertou!\")\n",
        "        break\n",
        "    else:\n",
        "        tentativa -= 1\n",
        "        print(\"\\nVocê errou! Tentativas (tentativa)\")\n",
        "        print(\"=\" * 20)"
      ],
      "metadata": {
        "id": "OzD7LxJVp6BN",
        "colab": {
          "base_uri": "https://localhost:8080/"
        },
        "outputId": "42b81fc9-0292-48ee-98e0-2a429f3e2f37"
      },
      "execution_count": 24,
      "outputs": [
        {
          "output_type": "stream",
          "name": "stdout",
          "text": [
            "RAOLPT\n",
            "====================\n",
            "Adivinhe a palavra: portal\n",
            "\n",
            "Parabéns! Você acertou!\n"
          ]
        }
      ]
    },
    {
      "cell_type": "code",
      "source": [
        "# 14  Leet é uma forma de se escrever o alfabeto latino usando outros símbolos em lugar das letras, como números por exemplo. A própria palavra leet admite muitas variações, como l33t ou 1337. O uso do leet reflete uma subcultura relacionada ao mundo dos jogos de computador e internet, sendo muito usada para confundir os iniciantes e afirmar-se como parte de um grupo. Pesquise sobre as principais formas de traduzir as letras. Depois, faça um programa que peça uma texto e transforme-o para a grafia leet speak.\n",
        "\n",
        "letra = input(\"Insira a palavra a ser criptografada: \")\n",
        "letra = letra.replace(\"a\", \"4\")\n",
        "letra = letra.replace(\"A\", \"4\")\n",
        "letra = letra.replace(\"e\", \"3\")\n",
        "letra = letra.replace(\"E\", \"3\")\n",
        "letra = letra.replace(\"i\", \"1\")\n",
        "letra = letra.replace(\"I\", \"1\")\n",
        "letra = letra.replace(\"o\", \"0\")\n",
        "letra = letra.replace(\"O\", \"0\")\n",
        "letra = letra.replace(\"t\", \"7\")\n",
        "letra = letra.replace(\"T\", \"7\")\n",
        "letra = letra.replace(\"s\", \"5\")\n",
        "letra = letra.replace(\"S\", \"5\")\n",
        "letra = letra.replace(\"l\", \"1\")\n",
        "letra = letra.replace(\"L\", \"1\")\n",
        "print(letra)"
      ],
      "metadata": {
        "colab": {
          "base_uri": "https://localhost:8080/"
        },
        "id": "Yuv4yw7du50Q",
        "outputId": "daf250d8-e6da-4837-bc4c-4a18ee47156a"
      },
      "execution_count": 25,
      "outputs": [
        {
          "output_type": "stream",
          "name": "stdout",
          "text": [
            "Insira a palavra a ser criptografada: Flamengo\n",
            "F14m3ng0\n"
          ]
        }
      ]
    }
  ]
}