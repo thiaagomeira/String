{
  "nbformat": 4,
  "nbformat_minor": 0,
  "metadata": {
    "colab": {
      "provenance": [],
      "collapsed_sections": [],
      "authorship_tag": "ABX9TyM8wJ+++XVip5Dmv3gJdEV9",
      "include_colab_link": true
    },
    "kernelspec": {
      "name": "python3",
      "display_name": "Python 3"
    },
    "language_info": {
      "name": "python"
    }
  },
  "cells": [
    {
      "cell_type": "markdown",
      "metadata": {
        "id": "view-in-github",
        "colab_type": "text"
      },
      "source": [
        "<a href=\"https://colab.research.google.com/github/thiaagomeira/String/blob/Atividade/Atividade_de_String_.ipynb\" target=\"_parent\"><img src=\"https://colab.research.google.com/assets/colab-badge.svg\" alt=\"Open In Colab\"/></a>"
      ]
    },
    {
      "cell_type": "code",
      "execution_count": null,
      "metadata": {
        "id": "hHDNIWl9j4yL"
      },
      "outputs": [],
      "source": [
        "# 1 Faça um programa que leia 2 strings e informe o conteúdo delas seguido do seu comprimento. Informe também se as duas strings possuem o mesmo comprimento e são iguais ou diferentes no conteúdo.\n",
        "\n",
        "String1 = input(\"Digite uma frase: \")\n",
        "String2 = input(\"Digite outra fase: \")\n",
        "tamanho_str_1 = len(String1)\n",
        "tamanho_str_2 = len(String2)\n",
        "print(String1 + \" \" + str(tamanho_str_1))\n",
        "print(String2 + \" \" + str(tamanho_str_2))"
      ]
    },
    {
      "cell_type": "code",
      "source": [
        "# 2 Faça um programa que permita ao usuário digitar o seu nome e em seguida mostre o nome do usuário de trás para frente utilizando somente letras maiúsculas. Dica: lembre−se que ao informar o nome o usuário pode digitar letras maiúsculas ou minúsculas.\n",
        "\n",
        "Nome = input(\"Digite o seu nome: \")\n",
        "print(Nome.upper() [::-1])"
      ],
      "metadata": {
        "id": "IjyzGNhBnTvC"
      },
      "execution_count": null,
      "outputs": []
    },
    {
      "cell_type": "code",
      "source": [
        "# 3 Faça um programa que solicite o nome do usuário e imprima-o na vertical.\n",
        "\n",
        "Nome = input('Digite o seu nome: ')\n",
        "for i in Nome:\n",
        "  print(str.upper(i))"
      ],
      "metadata": {
        "id": "hUwh7qrnoSDb"
      },
      "execution_count": null,
      "outputs": []
    },
    {
      "cell_type": "code",
      "source": [
        "# 4 Modifique o programa anterior de forma a mostrar o nome em formato de escada.\n",
        "\n",
        "Nome = str(input('Digite seu nome: ')).upper()\n",
        "for i in range(0,len(Nome)+1):\n",
        "  print(Nome[:i])"
      ],
      "metadata": {
        "id": "O2HB1A1NoxBL"
      },
      "execution_count": null,
      "outputs": []
    },
    {
      "cell_type": "code",
      "source": [
        "# 5 Altere o programa anterior de modo que a escada seja invertida.\n",
        "\n",
        "Nome = str(input('Digite seu nome: ')).upper()\n",
        "for i in range(0,len(Nome)+1):\n",
        "  print(Nome[i:])"
      ],
      "metadata": {
        "id": "3qzO4kWipQQw"
      },
      "execution_count": null,
      "outputs": []
    },
    {
      "cell_type": "code",
      "source": [
        "# 6 Faça um programa que solicite a data de nascimento (dd/mm/aaaa) do usuário e imprima a data com o nome do mês por extenso.\n",
        "\n",
        "data = input(\"Digite a sua data de nascimento (dd/mm/aaaa): \")\n",
        "lista_data = data.split(\"/\")\n",
        "meses = [\"janeiro\", \"fevereiro\", \"março\", \"abril\", \"maio\", \"junho\", \"julho\", \"agosto\", \"setembro\", \"outubro\", \"novembro\", \"dezembro\"]\n",
        "mes_extenso = meses[int(lista_data[1])-1]\n",
        "print(\"Você nasceu em: \")\n",
        "print(lista_data[0] + \" de \" + mes_extenso + \" de \" + lista_data[2])"
      ],
      "metadata": {
        "id": "ziHNRG30qJi0"
      },
      "execution_count": null,
      "outputs": []
    },
    {
      "cell_type": "code",
      "source": [
        "# 7 Dado uma string com uma frase informada pelo usuário (incluindo espaços em branco), conte:\n",
        "# Quantos espaços em branco existem na frase.\n",
        "# Quantas vezes aparecem as vogais a, e, i, o, u.Dado uma string com uma frase informada pelo usuário (incluindo espaços em branco), conte:\n",
        "# Quantos espaços em branco existem na frase.\n",
        "# Quantas vezes aparecem as vogais a, e, i, o, u.\n",
        "\n",
        "frase = input(\"Digite uma frase: \")\n",
        "vogais = 0\n",
        "espacos = 0\n",
        "for letra in frase:\n",
        "  if letra == \" \":\n",
        "    espacos += 1\n",
        "  elif letra in \"aeiou\":\n",
        "    vogais += 1\n",
        "print(\"A frase contém %d vogais e %d espaços\" % (vogais,espacos))"
      ],
      "metadata": {
        "id": "EW6u9P3btXRO"
      },
      "execution_count": null,
      "outputs": []
    },
    {
      "cell_type": "code",
      "source": [
        "# 8  Um palíndromo é uma seqüência de caracteres cuja leitura é idêntica se feita da direita para esquerda ou vice−versa. Por exemplo: OSSO e OVO são palíndromos. Em textos mais complexos os espaços e pontuação são ignorados. A frase SUBI NO ONIBUS é o exemplo de uma frase palíndroma onde os espaços foram ignorados. Faça um programa que leia uma seqüência de caracteres, mostre−a e diga se é um palíndromo ou não.\n",
        "\n",
        "frase = input(\"Digite uma frase: \").replace(\" \", \"\")\n",
        "numero_de_letras = len(frase)\n",
        "normal = frase[0:numero_de_letras]\n",
        "inverso = frase[numero_de_letras::-1]\n",
        "if normal == inverso:\n",
        "  print('Essa frase é um polindromo')\n",
        "else:\n",
        "  print('Essa frase não é um polidromo')"
      ],
      "metadata": {
        "id": "BOWt_XIrzXt7"
      },
      "execution_count": null,
      "outputs": []
    },
    {
      "cell_type": "code",
      "source": [
        "# 9 Desenvolva um programa que solicite a digitação de um número de CPF no formato xxx.xxx.xxx-xx e indique se é um número válido ou inválido através da validação dos dígitos verificadores e dos caracteres de formatação.\n",
        "\n",
        "cpf = input(\"Digite o seu CPF(xxx.xxx.xxx-xx): \") #3 7 11\n",
        "correto = False\n",
        "for numero in cpf:\n",
        "  if(cpf[3] !=\".\") or (cpf[7] !=\".\") or (cpf[11] !=\"-\"):\n",
        "    cpf = input(\"CPF iNVVÁLIDO!!! O 'CPF' pricisa estar no formato (xxx.xxx.xxx-xx): \")\n",
        "  else:\n",
        "    correto = True\n",
        "if correto == True:\n",
        "  print(\"O 'CPF' está no formato correto\")"
      ],
      "metadata": {
        "id": "vXaw1wrn3RKM"
      },
      "execution_count": null,
      "outputs": []
    },
    {
      "cell_type": "code",
      "source": [
        "# 10  Escreva um programa que solicite ao usuário a digitação de um número até 99 e imprima-o na tela por extenso.\n",
        "\n",
        "cont = ('zero', 'um', 'dois', 'três', 'quatro', 'cinco', 'seis', 'sete', 'oito', 'nove', 'dez', 'onze', 'doze',\n",
        "        'treze', 'quatorze', 'quinze', 'dezesseis', 'dezessete', 'dezoito', 'dezenove', 'vinte', \"vinte e um\",\n",
        "        \"vinte e dois\", \"vinte e três\", \"vinte e quatro\", \"vinte e cinco\", \"vinte e seis\", \"vinte e sete\",\n",
        "        \"vinte e oito\", \"vinte e nove\", 'trinta', \"trinta e um\", \"trinta e dois\", \"trinta e três\", \"trinta e quatro\",\n",
        "        \"trinta e cinco\", \"trinta e seis\", \"trinta e sete\", \"trinta e oito\", \"trinta e nove\", \"quarenta\",\n",
        "        \"quarenta e um\", \"quarenta e dois\", \"quarenta e três\", \"quarenta e quatro\", \"quarenta e cinco\",\n",
        "        \"quarenta e seis\", \"quarenta e sete\", \"quarenta e oito\", \"quarenta e nove\", \"cinquenta\",\n",
        "        \"cinquenta e um\", \"cinquenta e dois\", \"cinquenta e três\", \"cinquenta e quatro\", \"cinquenta e cinco\",\n",
        "        \"cinquenta e seis\" \"cinquenta e sete\", \"cinquenta e oito\", \"cinquenta e nove\", \"sessenta\",\n",
        "        \"sessenta e um\", \"sessenta e dois\", \"sessenta e três\", \"sessenta e quatro\", \"sessenta e cinco\",\n",
        "        \"sessenta e seis\", \"sessenta e sete\", \"sessenta e oito\", \"sessenta e nove\", \"setenta\", \"setenta e um\",\n",
        "        \"setenta e dois\", \"setenta e três\", \"setenta e quatro\", \"setenta e cinco\", \"setenta e seis\", \"setenta e sete\",\n",
        "        \"setenta e oito\", \"setenta e nove\", \"oitenta\", \"oitenta e um\", \"oitenta e dois\", \"oitenta e três\",\n",
        "        \"oitenta e quatro\", \"oitenta e cinco\", \"oitenta e seis\", \"oitenta e sete\", \"oitenta e oito\", \"oitenta e nove\",\n",
        "        \"noventa\", \"noventa e um\", \"noventa e dois\", \"noventa e três\", \"noventa e quatro\", \"noventa e cinco\",\n",
        "        \"noventa e seis\", \"noventa e sete\", \"noventa e oito\", \"noventa e nove\")\n",
        "while True:\n",
        "    numero = int(input(\"Digite um número entre 0 e 99: \"))\n",
        "    if 0 <= numero <= 99:\n",
        "        break\n",
        "    print(\"Tente novamente\")\n",
        "print(f'Você digitou o {cont[numero]}')"
      ],
      "metadata": {
        "id": "R3ntGcGgC5FF"
      },
      "execution_count": null,
      "outputs": []
    },
    {
      "cell_type": "code",
      "source": [
        "# 11 Desenvolva um jogo da forca. O programa terá uma lista de palavras lidas de um arquivo texto e escolherá uma aleatoriamente. O jogador poderá errar 6 vezes antes de ser enforcado.\n",
        "\n",
        "# Digite uma letra: A\n",
        "# -> Você errou pela 1ª vez. Tente de novo!\n",
        "\n",
        "# Digite uma letra: O\n",
        "# A palavra é: _ _ _ _ O\n",
        "\n",
        "# Digite uma letra: E\n",
        "# A palavra é: _ E _ _ O\n",
        "\n",
        "# Digite uma letra: S\n",
        "# -> Você errou pela 2ª vez. Tente de novo!\n",
        "\n",
        "import random\n",
        "palavras = input (\"Digite as palavras: \")\n",
        "palavras = palavras.split(\"_\")\n",
        "uma_palavra = palavras[random.randrange(0,len(palavras))]\n",
        "palavra_forca = [\"_\" for i in uma_palavra]\n",
        "chance = 1\n",
        "while(chance<7 and palavra_forca.count(\"_\") !=0):\n",
        "    letra = input(\"Digite uma letra: \")\n",
        "    if letra not in uma_palavra:\n",
        "        print(\"-> Você errou pela \"+str(chance) + \"a vez. Tente de novo!\")\n",
        "        chance = chance + 1\n",
        "    else:\n",
        "        print(\" \".join(palavra_forca))\n",
        "        if palavra_forca.count(\"_\") == 0:\n",
        "            print(\"Parabéns! Você acertou a palavra.\")\n",
        "else:\n",
        "  print(\"Forca! Fim de jogo.\")"
      ],
      "metadata": {
        "id": "8WPk8E9MY1C8"
      },
      "execution_count": null,
      "outputs": []
    },
    {
      "cell_type": "code",
      "source": [
        "# 12 Faça um programa que leia um número de telefone, e corrija o número no caso deste conter somente 7 dígitos, acrescentando o '3' na frente. O usuário pode informar o número com ou sem o traço separador.\n",
        "\n",
        "print(\"Valida e corrige número de telefone\")\n",
        "numero = int(input(\"Telefone: \"))\n",
        "novoNumero = ''\n",
        "if 8 > len(str(numero)):\n",
        "  diferenca = 8-len(str(numero))\n",
        "  novoNumero = \"3\" * diferenca\n",
        "numeroFormatado = novoNumero +str(numero)\n",
        "numeroFormatado = f\"{numeroFormatado[0:4]}-{numeroFormatado[4:]}\"\n",
        "print(\"Telefone possui% d dígitos. Vou adicionar o dígito três na frente\" % len(str(numero)))\n",
        "print(\"Telefone corrigido sem formatação:% d\" % numero)\n",
        "print(\"Telegone corrigido com formatação:% s\" % numeroFormatado)\n"
      ],
      "metadata": {
        "id": "qh6ie57eghzr"
      },
      "execution_count": null,
      "outputs": []
    },
    {
      "cell_type": "code",
      "source": [
        "# 13 Desenvolva um jogo em que o usuário tenha que adivinhar uma palavra que será mostrada com as letras embaralhadas. O programa terá uma lista de palavras lidas de um arquivo texto e escolherá uma aleatoriamente. O jogador terá seis tentativas para adivinhar a palavra. Ao final a palavra deve ser mostrada na tela, informando se o usuário ganhou ou perdeu o jogo.\n",
        "\n",
        "import random\n",
        "tentativa = 7\n",
        "palavras = ('PORTAL', 'CASAL', 'TORRE', 'CARRO', 'FLAMENGO', 'SUCO', 'CAMISA', \n",
        "            'LARANJA', 'VERMELHO', 'PORSCHE', \"FERRARI\", 'PORTAL', 'LENÇOL', \n",
        "            'ESCOLA')\n",
        "sorteado = random.choice(palavras)\n",
        "while tentativa != 0:\n",
        "    embaralhar = random.sample(sorteado, len (sorteado))\n",
        "    juntar_palavra_embaralhada = \"join(embaralha)\"\n",
        "    print(juntar_palavra_embaralhada)\n",
        "    print(\"=\"*20)\n",
        "    tent = input(\"Digite a palavra: \").upper()\n",
        "    if tent == sorteado:\n",
        "        print(\"\\nParabéns! Você venceu!\")\n",
        "    break\n",
        "else:\n",
        "    tentativa = 1\n",
        "    print(\"\\nVocê errou! Tentativas {tentativa\")\n",
        "print(\"=\"*20)"
      ],
      "metadata": {
        "id": "VTSuErl-kFot"
      },
      "execution_count": null,
      "outputs": []
    },
    {
      "cell_type": "code",
      "source": [
        "import random\n",
        "\n",
        "tentativa = 7\n",
        "palavras = ('PORTAL', 'CASAL', 'TORRE', 'CARRO', 'FLAMENGO', 'SUCO', 'CAMISA', 'LARANJA', 'VERMELHO', 'PORSCHE', \\\n",
        "            \"FERRARI\", 'PORTAL', 'LENÇOL', 'ESCOLA')\n",
        "sorteado = random.choice(palavras)\n",
        "while tentativa != 0:\n",
        "    embaralha = random.sample(sorteado, len(sorteado))\n",
        "    juntar_palavra_embaralhada = ''.join(embaralha)\n",
        "    print(juntar_palavra_embaralhada)\n",
        "    print(\"=\" * 20)\n",
        "    tent = input(\"Adivinhe a palavra: \").upper()\n",
        "    if tent == sorteado:\n",
        "        print(\"\\nParabéns! Você acertou!\")\n",
        "        break\n",
        "    else:\n",
        "        tentativa -= 1\n",
        "        print(\"\\nVocê errou! Tentativas (tentativa)\")\n",
        "        print(\"=\" * 20)"
      ],
      "metadata": {
        "id": "OzD7LxJVp6BN"
      },
      "execution_count": null,
      "outputs": []
    },
    {
      "cell_type": "code",
      "source": [
        "# 14  Leet é uma forma de se escrever o alfabeto latino usando outros símbolos em lugar das letras, como números por exemplo. A própria palavra leet admite muitas variações, como l33t ou 1337. O uso do leet reflete uma subcultura relacionada ao mundo dos jogos de computador e internet, sendo muito usada para confundir os iniciantes e afirmar-se como parte de um grupo. Pesquise sobre as principais formas de traduzir as letras. Depois, faça um programa que peça uma texto e transforme-o para a grafia leet speak.\n",
        "\n",
        "letra = input(\"Insira a palavra a ser criptografada: \")\n",
        "letra = letra.replace(\"a\", \"4\")\n",
        "letra = letra.replace(\"A\", \"4\")\n",
        "letra = letra.replace(\"e\", \"3\")\n",
        "letra = letra.replace(\"E\", \"3\")\n",
        "letra = letra.replace(\"i\", \"1\")\n",
        "letra = letra.replace(\"I\", \"1\")\n",
        "letra = letra.replace(\"o\", \"0\")\n",
        "letra = letra.replace(\"O\", \"0\")\n",
        "letra = letra.replace(\"t\", \"7\")\n",
        "letra = letra.replace(\"T\", \"7\")\n",
        "letra = letra.replace(\"s\", \"5\")\n",
        "letra = letra.replace(\"S\", \"5\")\n",
        "letra = letra.replace(\"l\", \"1\")\n",
        "letra = letra.replace(\"L\", \"1\")\n",
        "print(letra)"
      ],
      "metadata": {
        "colab": {
          "base_uri": "https://localhost:8080/"
        },
        "id": "Yuv4yw7du50Q",
        "outputId": "cb281e27-374c-49f2-88d3-fb6efbfa0f4c"
      },
      "execution_count": null,
      "outputs": [
        {
          "output_type": "stream",
          "name": "stdout",
          "text": [
            "Insira a palavra a ser criptografada: Flamengo\n",
            "F14m3ng0\n"
          ]
        }
      ]
    }
  ]
}